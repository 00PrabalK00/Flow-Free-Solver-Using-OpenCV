{
 "cells": [
  {
   "cell_type": "code",
   "execution_count": null,
   "metadata": {},
   "outputs": [],
   "source": [
    "import cv2\n",
    "from math import sqrt\n",
    "import numpy as np \n",
    "from matplotlib import pyplot as plt"
   ]
  },
  {
   "cell_type": "code",
   "execution_count": null,
   "metadata": {},
   "outputs": [],
   "source": [
    "height = 500\n",
    "width = 500\n",
    "\n",
    "imgBlank = np.zeros((height,width, 3), np.uint)\n",
    "url = \"http://192.168.6.250:8080/video\"\n",
    "cap = cv2.VideoCapture(url)"
   ]
  },
  {
   "cell_type": "code",
   "execution_count": null,
   "metadata": {},
   "outputs": [],
   "source": [
    "def getContours(img, original_img):\n",
    "    contours,hierachy = cv2.findContours(img, cv2.RETR_EXTERNAL,cv2.CHAIN_APPROX_NONE)\n",
    "    for cnt in contours:\n",
    "        area = cv2.contourArea(cnt)\n",
    "        if area>60000:\n",
    "            cv2.drawContours(original_img,cnt,-1,(0,255,0),3)\n",
    "    \n",
    "def biggestContour(img,original_img):\n",
    "    contours,hierachy = cv2.findContours(img, cv2.RETR_EXTERNAL,cv2.CHAIN_APPROX_NONE)\n",
    "    biggest = np.array([])\n",
    "    max_area = 0\n",
    "    for cnt in contours:\n",
    "        area= cv2.contourArea(cnt)\n",
    "        if area>60000:\n",
    "            # cv2.drawContours(original_img,cnt,-1,(0,255,0),3)\n",
    "            peri = cv2.arcLength(cnt,True)\n",
    "            approx = cv2.approxPolyDP(cnt, 0.02*peri,True)\n",
    "            if area>max_area and len(approx)==4:\n",
    "                max_area = area\n",
    "                biggest = approx\n",
    "    return biggest, max_area\n",
    "\n",
    "def reorder(points):\n",
    "    points = points.reshape((4,2))\n",
    "    pointsnew = np.zeros((4,1,2),dtype= np.int32)\n",
    "    add = points.sum(1)\n",
    "    pointsnew[0] = points[np.argmin(add)]\n",
    "    pointsnew[3] = points[np.argmax(add)]\n",
    "    diff = np.diff(points,axis=1)\n",
    "    pointsnew[1] = points[np.argmin(diff)]\n",
    "    pointsnew[2] = points[np.argmax(diff)]\n",
    "    return pointsnew\n",
    "\n",
    "def splitBoxes(img,n):\n",
    "    rows = np.vsplit(img,n)\n",
    "    boxes=[]\n",
    "    for r in rows:\n",
    "        cols = np.hsplit(r,n)\n",
    "        for box in cols:\n",
    "            boxes.append(box)\n",
    "    return boxes\n",
    "\n",
    "col_val = [[0,0,254,1],[0,141,2,2],[4,224,234,3],[254,41,14,4],[0,137,250,5]]\n",
    "\n",
    "def predict(boxes):\n",
    "    board = []\n",
    "    for image in boxes:\n",
    "        col = (image[50,50])\n",
    "        e = 0\n",
    "        for i in col_val:\n",
    "            if i[0]==col[0] and i[1]==col[1] and i[2]==col[2]:\n",
    "                e = i[3]\n",
    "        board.append(e)\n",
    "    return board"
   ]
  },
  {
   "cell_type": "code",
   "execution_count": null,
   "metadata": {},
   "outputs": [],
   "source": [
    "while True:\n",
    "    camera, img = cap.read()\n",
    "    img = cv2.resize(img,(500,500))\n",
    "    imgGray = cv2.cvtColor(img, cv2.COLOR_BGR2GRAY)\n",
    "    imgBlur = cv2.GaussianBlur(imgGray,(3,3),0)\n",
    "    imgCanny = cv2.Canny(imgBlur,50,200)\n",
    "    img_copy = img.copy()\n",
    "\n",
    "    biggest, maxArea = biggestContour(imgCanny,img_copy)\n",
    "\n",
    "    if biggest.size!= 0:\n",
    "        biggest = reorder(biggest)\n",
    "        cv2.drawContours(img_copy, biggest, -1,(0,255,0),10)\n",
    "        pts1 = np.float32(biggest)\n",
    "        pts2 = np.float32([[0,0],[width,0],[0,height],[width,height]])\n",
    "        matrix = cv2.getPerspectiveTransform(pts1,pts2)\n",
    "        imgWarpColored = cv2.warpPerspective(img, matrix, (width,height))\n",
    "        imgDetectedCircles = imgBlank.copy()\n",
    "        # imgWarpColored = cv2.cvtColor(imgWarpColored,cv2.COLOR_BGR2GRAY)\n",
    "    \n",
    "    cv2.imshow('Webcam', img)\n",
    "    if cv2.waitKey(1) & 0xff == ord('q'):\n",
    "        cv2.destroyAllWindows()\n",
    "        break"
   ]
  }
 ],
 "metadata": {
  "kernelspec": {
   "display_name": "Python 3",
   "language": "python",
   "name": "python3"
  },
  "language_info": {
   "codemirror_mode": {
    "name": "ipython",
    "version": 3
   },
   "file_extension": ".py",
   "mimetype": "text/x-python",
   "name": "python",
   "nbconvert_exporter": "python",
   "pygments_lexer": "ipython3",
   "version": "3.8.10"
  },
  "orig_nbformat": 4
 },
 "nbformat": 4,
 "nbformat_minor": 2
}
