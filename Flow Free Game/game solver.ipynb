{
 "cells": [
  {
   "cell_type": "code",
   "execution_count": 299,
   "metadata": {},
   "outputs": [],
   "source": [
    "import cv2\n",
    "from math import sqrt\n",
    "import numpy as np \n",
    "from matplotlib import pyplot as plt"
   ]
  },
  {
   "cell_type": "code",
   "execution_count": 300,
   "metadata": {},
   "outputs": [],
   "source": [
    "path = \"/media/ben/Ben Drive/Codes/OpenCV/Flow Free Game/5x5.jpg\"\n",
    "height = 500\n",
    "width = 500\n",
    "\n",
    "img = cv2.imread(path)\n",
    "img = cv2.resize(img,(width, height))\n",
    "imgBlank = np.zeros((height,width, 3), np.uint)"
   ]
  },
  {
   "cell_type": "code",
   "execution_count": 301,
   "metadata": {},
   "outputs": [],
   "source": [
    "imgGray = cv2.cvtColor(img, cv2.COLOR_BGR2GRAY)\n",
    "imgBlur = cv2.GaussianBlur(imgGray,(5,5),1)\n",
    "_, th4 = cv2.threshold(img, 127, 255, cv2.THRESH_TOZERO)\n",
    "\n",
    "hsv = cv2.cvtColor(img, cv2.COLOR_BGR2HSV)\n",
    "lower_bound = np.array([10,15,25])\n",
    "upper_bound = np.array([100,150,110])\n",
    "mask = cv2.inRange(hsv, lower_bound, upper_bound)\n",
    "res = cv2.bitwise_and(img, img, mask=mask)\n",
    "\n",
    "imgGray1 = cv2.cvtColor(res, cv2.COLOR_BGR2GRAY)\n",
    "imgBlur = cv2.GaussianBlur(imgGray1,(5,5),1)\n",
    "imgThreshold = cv2.adaptiveThreshold(imgBlur,255,1,1,11,2)"
   ]
  },
  {
   "cell_type": "code",
   "execution_count": 302,
   "metadata": {},
   "outputs": [],
   "source": [
    "def biggestContour(contours):\n",
    "    biggest = np.array([])\n",
    "    max_area = 0\n",
    "    for cnt in contours:\n",
    "        area= cv2.contourArea(cnt)\n",
    "        if area>500:\n",
    "            peri = cv2.arcLength(cnt,True)\n",
    "            approx = cv2.approxPolyDP(cnt, 0.02*peri,True)\n",
    "            if area>max_area and len(approx)==4:\n",
    "                max_area = area\n",
    "                biggest = approx\n",
    "    return biggest, max_area\n",
    "\n",
    "def reorder(points):\n",
    "    points = points.reshape((4,2))\n",
    "    pointsnew = np.zeros((4,1,2),dtype= np.int32)\n",
    "    add = points.sum(1)\n",
    "    pointsnew[0] = points[np.argmin(add)]\n",
    "    pointsnew[3] = points[np.argmax(add)]\n",
    "    diff = np.diff(points,axis=1)\n",
    "    pointsnew[1] = points[np.argmin(diff)]\n",
    "    pointsnew[2] = points[np.argmax(diff)]\n",
    "    return pointsnew\n",
    "\n",
    "def splitBoxes(img):\n",
    "    rows = np.vsplit(img,5)\n",
    "    boxes=[]\n",
    "    for r in rows:\n",
    "        cols = np.hsplit(r,5)\n",
    "        for box in cols:\n",
    "            boxes.append(box)\n",
    "    return boxes\n",
    "\n",
    "col_val = [[0,0,254,1],[0,141,2,2],[4,224,234,3],[254,41,14,4],[0,137,250,5]]\n",
    "\n",
    "def predict(boxes):\n",
    "    board = []\n",
    "    for image in boxes:\n",
    "        col = (image[50,50])\n",
    "        e = 0\n",
    "        for i in col_val:\n",
    "            if i[0]==col[0] and i[1]==col[1] and i[2]==col[2]:\n",
    "                e = i[3]\n",
    "        board.append(e)\n",
    "    return board\n",
    "  "
   ]
  },
  {
   "cell_type": "code",
   "execution_count": 303,
   "metadata": {},
   "outputs": [],
   "source": [
    "edges= cv2.Canny(imgGray1, 50,200)\n",
    "contours, hierarchy= cv2.findContours(edges.copy(), cv2.RETR_EXTERNAL, cv2.CHAIN_APPROX_NONE)\n",
    "\n",
    "biggest, maxArea = biggestContour(contours)\n",
    "\n",
    "if biggest.size!= 0:\n",
    "    biggest = reorder(biggest)\n",
    "    pts1 = np.float32(biggest)\n",
    "    pts2 = np.float32([[0,0],[width,0],[0,height],[width,height]])\n",
    "    matrix = cv2.getPerspectiveTransform(pts1,pts2)\n",
    "    imgWarpColored = cv2.warpPerspective(img, matrix, (width,height))\n",
    "    imgDetectedCircles = imgBlank.copy()\n",
    "    # imgWarpColored = cv2.cvtColor(imgWarpColored,cv2.COLOR_BGR2GRAY)\n"
   ]
  },
  {
   "cell_type": "code",
   "execution_count": 304,
   "metadata": {},
   "outputs": [
    {
     "name": "stdout",
     "output_type": "stream",
     "text": [
      "[1, 0, 2, 0, 3, 0, 0, 4, 0, 5, 0, 0, 0, 0, 0, 0, 2, 0, 3, 0, 0, 1, 4, 5, 0]\n"
     ]
    }
   ],
   "source": [
    "imgSolvedDigits = imgBlank.copy()\n",
    "boxes = splitBoxes(imgWarpColored)\n",
    "board = predict(boxes)\n",
    "print(board)\n",
    "bt  = open('board.txt','w')\n",
    "bt.write(str(int(sqrt(len(board))))+\"\\n\")\n",
    "for i in range(len(board)):\n",
    "    bt.write(str(board[i])+\" \")\n",
    "bt.close()\n"
   ]
  },
  {
   "cell_type": "code",
   "execution_count": 305,
   "metadata": {},
   "outputs": [],
   "source": [
    "# cv2.imshow(\"Original\", img)\n",
    "# cv2.imshow(\"4 - THRESH_TOZERO\", th4)\n",
    "# cv2.imshow(\"Result\", res)\n",
    "# cv2.imshow(\"Grid\", img)\n",
    "# cv2.imshow(\"Threshold\", imgThreshold)\n",
    "# cv2.imshow(\"Contours\", imgContours)\n",
    "# cv2.imshow(\"Grid Pts\", imgBigcontours)"
   ]
  },
  {
   "cell_type": "code",
   "execution_count": 306,
   "metadata": {},
   "outputs": [],
   "source": [
    "cv2.waitKey(0)\n",
    "cv2.destroyAllWindows()"
   ]
  }
 ],
 "metadata": {
  "kernelspec": {
   "display_name": "Python 3",
   "language": "python",
   "name": "python3"
  },
  "language_info": {
   "codemirror_mode": {
    "name": "ipython",
    "version": 3
   },
   "file_extension": ".py",
   "mimetype": "text/x-python",
   "name": "python",
   "nbconvert_exporter": "python",
   "pygments_lexer": "ipython3",
   "version": "3.8.10"
  },
  "orig_nbformat": 4
 },
 "nbformat": 4,
 "nbformat_minor": 2
}
